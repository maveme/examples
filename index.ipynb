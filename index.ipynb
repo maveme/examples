{
 "cells": [
  {
   "cell_type": "code",
   "execution_count": null,
   "metadata": {
    "collapsed": false
   },
   "outputs": [
    {
     "data": {
      "text/html": [
       "<p style=\"color:blue;\">int (int): function(\u001b[0;34;4m|prompt:///|(0,52,<1,0>,<1,52>)\u001b[m)\n",
       "</p>"
      ],
      "text/plain": [
       "kernel answer"
      ]
     },
     "execution_count": 0,
     "metadata": {},
     "output_type": "execute_result"
    }
   ],
   "source": [
    "public int fac(int N) = N <= 0 ? 1 : N * fac(N - 1);"
   ]
  },
  {
   "cell_type": "code",
   "execution_count": null,
   "metadata": {
    "collapsed": false
   },
   "outputs": [
    {
     "data": {
      "text/html": [
       "<p style=\"color:blue;\">int (int): function(\u001b[0;34;4m|prompt:///|(0,23,<1,0>,<1,23>)\u001b[m)\n",
       "</p>"
      ],
      "text/plain": [
       "kernel answer"
      ]
     },
     "execution_count": 1,
     "metadata": {},
     "output_type": "execute_result"
    }
   ],
   "source": [
    "public int fac2(0) = 1;"
   ]
  },
  {
   "cell_type": "code",
   "execution_count": null,
   "metadata": {
    "collapsed": false
   },
   "outputs": [
    {
     "data": {
      "text/html": [
       "<p style=\"color:blue;\">int (int): function(\u001b[0;34;4m|prompt:///|(0,49,<1,0>,<1,49>)\u001b[m)\n",
       "</p>"
      ],
      "text/plain": [
       "kernel answer"
      ]
     },
     "execution_count": 2,
     "metadata": {},
     "output_type": "execute_result"
    }
   ],
   "source": [
    "public default int fac2(int N) = N * fac2(N - 1);"
   ]
  },
  {
   "cell_type": "code",
   "execution_count": null,
   "metadata": {
    "collapsed": false
   },
   "outputs": [
    {
     "data": {
      "text/html": [
       "<p style=\"color:blue;\">int (int): function(\u001b[0;34;4m|prompt:///|(0,83,<1,0>,<5,1>)\u001b[m)\n",
       "</p>"
      ],
      "text/plain": [
       "kernel answer"
      ]
     },
     "execution_count": 3,
     "metadata": {},
     "output_type": "execute_result"
    }
   ],
   "source": [
    "public int fac3(int N)  { \n",
    "  if (N == 0) \n",
    "    return 1;\n",
    "  return N * fac3(N - 1);\n",
    "}"
   ]
  },
  {
   "cell_type": "code",
   "execution_count": null,
   "metadata": {
    "collapsed": false
   },
   "outputs": [
    {
     "data": {
      "text/html": [
       "<p style=\"color:blue;\">int: 258623241511168180642964355153611979969197632389120000000000\n",
       "</p>"
      ],
      "text/plain": [
       "kernel answer"
      ]
     },
     "execution_count": 4,
     "metadata": {},
     "output_type": "execute_result"
    }
   ],
   "source": [
    "fac(47);"
   ]
  },
  {
   "cell_type": "code",
   "execution_count": null,
   "metadata": {
    "collapsed": false
   },
   "outputs": [
    {
     "data": {
      "text/html": [
       "<p style=\"color:blue;\">int: 258623241511168180642964355153611979969197632389120000000000\n",
       "</p>"
      ],
      "text/plain": [
       "kernel answer"
      ]
     },
     "execution_count": 5,
     "metadata": {},
     "output_type": "execute_result"
    }
   ],
   "source": [
    "fac2(47);"
   ]
  },
  {
   "cell_type": "code",
   "execution_count": null,
   "metadata": {
    "collapsed": true
   },
   "outputs": [],
   "source": []
  }
 ],
 "metadata": {
  "kernelspec": {
   "display_name": "Rascal Kernel",
   "language": "java",
   "name": "javakernel"
  }
 },
 "nbformat": 4,
 "nbformat_minor": 1
}
